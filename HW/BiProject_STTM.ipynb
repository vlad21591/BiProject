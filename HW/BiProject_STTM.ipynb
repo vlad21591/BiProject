{
  "nbformat": 4,
  "nbformat_minor": 0,
  "metadata": {
    "colab": {
      "provenance": []
    },
    "kernelspec": {
      "name": "python3",
      "display_name": "Python 3"
    },
    "language_info": {
      "name": "python"
    }
  },
  "cells": [
    {
      "cell_type": "code",
      "execution_count": null,
      "metadata": {
        "id": "1Fw0Y6jZ7bkx"
      },
      "outputs": [],
      "source": [
        "!pip install jsonpath_ng"
      ]
    },
    {
      "cell_type": "markdown",
      "source": [
        "### Imports"
      ],
      "metadata": {
        "id": "2OYRugDVGDbS"
      }
    },
    {
      "cell_type": "code",
      "source": [
        "import os\n",
        "import json\n",
        "import numpy as np \n",
        "import pandas as pd \n",
        "import sqlite3\n",
        "import functools as ft\n",
        "import matplotlib.pyplot as plt\n",
        "from abc import ABC, abstractmethod\n",
        "from jsonpath_ng import parse\n",
        "from enum import Enum\n",
        "%matplotlib inline "
      ],
      "metadata": {
        "id": "wvc9G-2B7qwG"
      },
      "execution_count": null,
      "outputs": []
    },
    {
      "cell_type": "code",
      "source": [
        "with open(\"SMWB SET.json\", \"r\") as file:\n",
        "  data = json.load(file)\n",
        "  for item in data:\n",
        "    item[\"Account\"] = str(item[\"Account\"])\n",
        "    item[\"ARR\"] = str(item[\"ARR\"])\n",
        "    item[\"Stage\"] = str(item[\"Stage\"])\n",
        "    item[\"Is_Win\"] = str(item[\"Is_Win\"])\n",
        "    item[\"Employees size\"] = str(item[\"Employees size\"])\n",
        "    item[\"Country\"] = str(item[\"Country\"])\n",
        "    item[\"Created Date\"] = str(item[\"Created Date\"])\n",
        "    item[\"Closed Date\"] = str(item[\"Closed Date\"])\n",
        "    item[\"Month\"] = str(item[\"Month\"])\n",
        "    item[\"Quarter\"] = str(item[\"Quarter\"])\n",
        "    item[\"Closed lost reason\"] = str(item[\"Closed lost reason\"])\n",
        "    item[\"Closed Won reason\"] = str(item[\"Closed Won reason\"])"
      ],
      "metadata": {
        "id": "-wh3LfctODIv"
      },
      "execution_count": null,
      "outputs": []
    },
    {
      "cell_type": "code",
      "source": [
        "class Interface(ABC):\n",
        "\n",
        "    @abstractmethod\n",
        "    def get_data_by_field(self, field_name):\n",
        "        \"\"\"Fetch the data by given feild name \"\"\"\n",
        "\n",
        "    @abstractmethod\n",
        "    def get_data_by_id(self, id):\n",
        "        \"\"\"Fetch the data by given ID  \"\"\"\n",
        "\n",
        "    @abstractmethod\n",
        "    def get(self):\n",
        "        \"\"\"Fetch all data \"\"\""
      ],
      "metadata": {
        "id": "jRfWSxxaNu7_"
      },
      "execution_count": null,
      "outputs": []
    },
    {
      "cell_type": "markdown",
      "source": [
        "### TransformMask - Functions"
      ],
      "metadata": {
        "id": "8qQR7e7OF6D5"
      }
    },
    {
      "cell_type": "code",
      "source": [
        "class TransformMask(Enum):\n",
        "    # add here any masks you want \n",
        "    CLEAN_STRING = \".strip().lower()\" \n",
        "    CAPITAL_LETTER = \".strip().lower().title()\""
      ],
      "metadata": {
        "id": "NBiLQ9Di-yw7"
      },
      "execution_count": null,
      "outputs": []
    },
    {
      "cell_type": "markdown",
      "source": [
        "### Database class"
      ],
      "metadata": {
        "id": "rC_zqXknAMso"
      }
    },
    {
      "cell_type": "code",
      "source": [
        "K_list = []\n",
        "\n",
        "class Database:\n",
        "    def __init__(self):\n",
        "        self.db = {\n",
        "            \"source\": [],\n",
        "            \"destination\": [],\n",
        "            \"mapping\": []\n",
        "        }\n",
        "\n",
        "        self.add_source(1, \"jobTitle\", \"$.jobTitle\", \"str\", True)\n",
        "\n",
        "\n",
        "    def add_source(self):\n",
        "      for i in range (1, len(K_list)+1):\n",
        "        self.db[\"source\"].append({\n",
        "                    \"id\": i,\n",
        "                    \"source_field_name\": K_list[i-1],\n",
        "                    \"source_field_mapping\": K_list[i-1],\n",
        "                    \"source_field_type\": \"str\",\n",
        "                    \"is_required\": True,\n",
        "                     })\n",
        "      \n",
        "    def add_destination(self):\n",
        "      for i in range (1, len(K_list)+1):\n",
        "       self.db[\"destination\"].append({\n",
        "                    \"id\": i,\n",
        "                    \"destination_field_name\": K_list[i-1],\n",
        "                    \"destination_field_mapping\": K_list[i-1],\n",
        "                    \"destination_field_type\": \"str\",\n",
        "                    \"default_value\": \"n/a\",\n",
        "                     })\n",
        "      \n",
        "    def add_transform(self):\n",
        "       self.db[\"transform\"] = [\n",
        "          {\n",
        "          \"id\":1\n",
        "          \"transform_mask\": 'CAPITAL_LETTER'\n",
        "\n",
        "          },\n",
        "          {\n",
        "          \"id\":2\n",
        "          \"transform_mask\": 'CLEAN_STRING'\n",
        "          }\n",
        "       ]\n",
        "     \n",
        "     \n",
        "    def add_mapping(self):\n",
        "      for i in range (1, len(K_list)+1):\n",
        "        self.db[\"mapping\"].append({\n",
        "                    \"id\": i,\n",
        "                    \"mapping_source\": i,\n",
        "                    \"mapping_destination\": i,\n",
        "                    \"mapping_transform\": i\n",
        "                     })\n",
        "        \n",
        "    def data_source_target_mapping(self):\n",
        "      self.add_source()\n",
        "      self.add_destination()\n",
        "      self.add_transform()\n",
        "      self.add_mapping()\n",
        "      \n",
        "    @property\n",
        "    def get_data_source_target_mapping(self):\n",
        "        self.data_source_target_mapping()\n",
        "        return self.db"
      ],
      "metadata": {
        "id": "dIgQxvY17s6M"
      },
      "execution_count": null,
      "outputs": []
    },
    {
      "cell_type": "markdown",
      "source": [
        "### Source class"
      ],
      "metadata": {
        "id": "EKVM57uXAb_d"
      }
    },
    {
      "cell_type": "code",
      "source": [
        "class Source(Interface, Database):\n",
        "    def __init__(self):\n",
        "        Database.__init__(self)\n",
        "\n",
        "    # should be implemented - inherited from Interface\n",
        "    def get_data_by_field(self, field_name):\n",
        "        data = self.get\n",
        "        for item in data:\n",
        "            for key, value in item.items():\n",
        "                if key == field_name:\n",
        "                    return item\n",
        "        return None\n",
        "\n",
        "    @property\n",
        "    def get(self):\n",
        "        return self.get_data_source_target_mapping.get(\"source\")\n",
        "\n",
        "    def get_data_by_id(self, id):\n",
        "        self.id = id\n",
        "        data = self.get\n",
        "        for x in data:\n",
        "            if x.get(\"id\") == self.id:\n",
        "                return x\n",
        "        return None"
      ],
      "metadata": {
        "id": "S0o-7tGvAElk"
      },
      "execution_count": null,
      "outputs": []
    },
    {
      "cell_type": "markdown",
      "source": [
        "### Target class"
      ],
      "metadata": {
        "id": "ThO2dqZsAeTt"
      }
    },
    {
      "cell_type": "code",
      "source": [
        "class Target(Interface, Database):\n",
        "\n",
        "    def __init__(self):\n",
        "        Database.__init__(self)\n",
        "\n",
        "    # should be implemented - inherited from Interface\n",
        "    def get_data_by_field(self, field_name):\n",
        "        data = self.get\n",
        "        for item in data:\n",
        "            for key, value in item.items():\n",
        "                if key == field_name:\n",
        "                    return item\n",
        "        return None\n",
        "\n",
        "    @property\n",
        "    def get(self):\n",
        "        return self.get_data_source_target_mapping.get(\"destination\")\n",
        "\n",
        "    def get_data_by_id(self, id):\n",
        "        self.id = id\n",
        "        data = self.get\n",
        "        for x in data:\n",
        "            if x.get(\"id\").__str__() == self.id.__str__():\n",
        "                return x\n",
        "        return None"
      ],
      "metadata": {
        "id": "61TJz9ZeAGVK"
      },
      "execution_count": null,
      "outputs": []
    },
    {
      "cell_type": "markdown",
      "source": [
        "### Transform class"
      ],
      "metadata": {
        "id": "K_ZYCdBjF0_F"
      }
    },
    {
      "cell_type": "code",
      "source": [
        "class Transform(Interface, Database):\n",
        "\n",
        "    def __init__(self):\n",
        "        Database.__init__(self)\n",
        "\n",
        "    # should be implemented - inherited from Interface\n",
        "    def get_data_by_field(self, field_name):\n",
        "        data = self.get\n",
        "        for item in data:\n",
        "            for key, value in item.items():\n",
        "                if key == field_name:\n",
        "                    return item\n",
        "        return None\n",
        "\n",
        "    @property\n",
        "    def get(self):\n",
        "        return self.get_data_source_target_mapping.get(\"transform\", [])\n",
        "\n",
        "    def get_data_by_id(self, id):\n",
        "        self.id = id\n",
        "        data = self.get\n",
        "        for x in data:\n",
        "            if x.get(\"id\").__str__() == self.id.__str__():\n",
        "                return x\n",
        "        return None"
      ],
      "metadata": {
        "id": "mS7vIJ8kAH26"
      },
      "execution_count": null,
      "outputs": []
    },
    {
      "cell_type": "markdown",
      "source": [
        "### Mapping class"
      ],
      "metadata": {
        "id": "8Zo-LyaNAkTm"
      }
    },
    {
      "cell_type": "code",
      "source": [
        "class Mappings(Interface, Database):\n",
        "\n",
        "    def __init__(self):\n",
        "        Database.__init__(self)\n",
        "\n",
        "    def get_data_by_field(self, field_name):\n",
        "        data = self. get\n",
        "        for item in data:\n",
        "          for key, value in item.items():\n",
        "            if key == field_name:\n",
        "              return item\n",
        "        return None\n",
        "\n",
        "    @property\n",
        "    def get(self):\n",
        "        return self.get_data_source_target_mapping.get(\"mapping\")\n",
        "\n",
        "    def get_data_by_id(self, id):\n",
        "        self.id = id\n",
        "        data = self.get\n",
        "        for x in data:\n",
        "            if x.get(\"id\").__str__() == self.id.__str__():\n",
        "                return x\n",
        "        return None\n"
      ],
      "metadata": {
        "id": "MuuM-EShAJhn"
      },
      "execution_count": null,
      "outputs": []
    },
    {
      "cell_type": "markdown",
      "source": [
        "### Format Class - JSON"
      ],
      "metadata": {
        "id": "01OY0EMXAqe4"
      }
    },
    {
      "cell_type": "code",
      "source": [
        "class JsonQuery:\n",
        "    def __init__(self, json_path, json_data):\n",
        "        self.json_path = json_path\n",
        "        self.json_data = json_data\n",
        "\n",
        "    def get(self):\n",
        "        jsonpath_expression = parse(self.json_path)\n",
        "        match = jsonpath_expression.find(self.json_data)\n",
        "        source_data_value = match[0].value\n",
        "        return source_data_value"
      ],
      "metadata": {
        "id": "5CujacuIArXP"
      },
      "execution_count": null,
      "outputs": []
    },
    {
      "cell_type": "markdown",
      "source": [
        "# STTM"
      ],
      "metadata": {
        "id": "1okOjwQoAxEG"
      }
    },
    {
      "cell_type": "code",
      "source": [
        "class STTM:\n",
        "    def __init__(self, input_json):\n",
        "        self.input_json = input_json\n",
        "        self.mapping_instance = Mappings()\n",
        "        self.source_instance = Source()\n",
        "        self.destination_instance = Target()\n",
        "        self.transform_instance = Transform()\n",
        "        self.look_up_mask = {i.name: i.value for i in TransformMask}\n",
        "        self.json_data_transformed = {}\n",
        "\n",
        "    def _get_mapping_data(self):\n",
        "        return self.mapping_instance.get\n",
        "\n",
        "    def _get_mapping_source_data(self):\n",
        "        return self.source_instance.get\n",
        "\n",
        "    def get_transformed_data(self):\n",
        "\n",
        "        for mappings in self._get_mapping_data():\n",
        "\n",
        "            \"\"\"fetch the source mapping \"\"\"\n",
        "            mapping_source_id = mappings.get(\"mapping_source\")\n",
        "            mapping_destination_id = mappings.get(\"mapping_destination\")\n",
        "            mapping_transform_id = mappings.get(\"mapping_transform\")\n",
        "\n",
        "            mapping_source_data = self.source_instance.get_data_by_id(id=mapping_source_id)\n",
        "            transform_data = self.transform_instance.get_data_by_id(id=mapping_transform_id)\n",
        "\n",
        "            \"\"\"Fetch Source  field Name\"\"\"\n",
        "            source_field_name = mapping_source_data.get(\"source_field_name\")\n",
        "\n",
        "            \"\"\"if field given is not present incoming json \"\"\"\n",
        "            if source_field_name not in self.input_json.keys():\n",
        "                if mapping_source_data.get(\"is_required\"):\n",
        "                    raise Exception(\n",
        "                        \"Alert ! Field {} is not present in JSON please FIX mappings \".format(source_field_name))\n",
        "                else:\n",
        "                    pass\n",
        "\n",
        "            else:\n",
        "                source_data_value = JsonQuery(\n",
        "                    json_path=mapping_source_data.get(\"source_field_mapping\"),\n",
        "                    json_data=self.input_json\n",
        "                ).get()\n",
        "\n",
        "                \"\"\"check the data type for source if matches with what we have \"\"\"\n",
        "                if mapping_source_data.get(\"source_field_type\") != type(source_data_value).__name__:\n",
        "                    if source_data_value is not None:\n",
        "                        _message = (\n",
        "                            \"Alert ! Source Field :{} Datatype has changed from {} to {} \".format(source_field_name,\n",
        "                                                                                                  mapping_source_data.get(\n",
        "                                                                                                      \"source_field_type\"),\n",
        "                                                                                                  type(\n",
        "                                                                                                      source_data_value).__name__))\n",
        "                        print(_message)\n",
        "                        raise Exception(_message)\n",
        "\n",
        "                \"\"\"Query and fetch the Destination | target \"\"\"\n",
        "                destination_mappings_json_object = self.destination_instance.get_data_by_id(\n",
        "                    id=mappings.get(\"mapping_destination\"))\n",
        "\n",
        "                destination_field_name = destination_mappings_json_object.get(\"destination_field_name\")\n",
        "                destination_field_type = destination_mappings_json_object.get(\"destination_field_type\")\n",
        "\n",
        "                dtypes = [str, float, list, int, set, dict]\n",
        "\n",
        "                for dtype in dtypes:\n",
        "\n",
        "                    \"\"\"Datatype Conversion \"\"\"\n",
        "                    if destination_field_type == str(dtype.__name__):\n",
        "\n",
        "                        \"\"\"is source is none insert default value\"\"\"\n",
        "                        if source_data_value is None:\n",
        "                            self.json_data_transformed[destination_field_name] = dtype.__call__(\n",
        "                                destination_mappings_json_object.get(\"default_value\")\n",
        "                            )\n",
        "\n",
        "                        else:\n",
        "                            \"\"\"check if you have items to transform\"\"\"\n",
        "                            if transform_data is not None:\n",
        "                                \"\"\" check for invalid mask name \"\"\"\n",
        "                                if transform_data.get(\"transform_mask\") not in list(self.look_up_mask.keys()):\n",
        "                                    raise Exception(\n",
        "                                        f\"Specified Transform {transform_data.get('transform_mask')} is not available please select from following Options :{list(self.look_up_mask.keys())}\")\n",
        "                                else:\n",
        "                                    mask_apply = self.look_up_mask.get(transform_data.get(\"transform_mask\"))\n",
        "                                    converted_dtype = dtype.__call__(source_data_value)\n",
        "                                    mask = f'converted_dtype{mask_apply}'\n",
        "                                    curated_value = eval(mask)\n",
        "                                    self.json_data_transformed[destination_field_name] = curated_value\n",
        "\n",
        "                            else:\n",
        "                                self.json_data_transformed[destination_field_name] = dtype.__call__(source_data_value)\n",
        "\n",
        "        return self.json_data_transformed"
      ],
      "metadata": {
        "id": "dkrpWDS4Awu2"
      },
      "execution_count": null,
      "outputs": []
    },
    {
      "cell_type": "code",
      "source": [
        "transformed_data = []\n",
        "for item in data:\n",
        "    helper = STTM(input_json=item)\n",
        "    response = helper.get_transformed_data()\n",
        "    transformed_data.append(response)\n",
        "    print(response)"
      ],
      "metadata": {
        "id": "ZHphs4bpA7fc"
      },
      "execution_count": null,
      "outputs": []
    },
    {
      "cell_type": "code",
      "source": [
        "pd.DataFrame(transformed_data)"
      ],
      "metadata": {
        "id": "0ad2X6uQA9NT"
      },
      "execution_count": null,
      "outputs": []
    }
  ]
}